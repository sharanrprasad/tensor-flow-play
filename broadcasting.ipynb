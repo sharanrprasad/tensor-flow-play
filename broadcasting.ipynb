{
 "cells": [
  {
   "cell_type": "markdown",
   "source": [
    "Broadcasting is a technique used in python to help with matrix operations(add, sub, mul(includes element-wise, dot and matmul), divide). \n",
    "Let's consider this case where the dimensions of matrices don't match while matrix-multiplying. Instead of throwing an error we get the right result. \n",
    "\n"
   ],
   "metadata": {
    "collapsed": false
   },
   "id": "86aa069124a64b4e"
  },
  {
   "cell_type": "code",
   "outputs": [
    {
     "name": "stdout",
     "output_type": "stream",
     "text": [
      "[ 5 11 17]\n",
      "(3, 2) (2,)\n"
     ]
    }
   ],
   "source": [
    "import numpy as np\n",
    "\n",
    "a = np.array([[1, 2],\n",
    "              [3, 4],\n",
    "              [5, 6]])\n",
    "\n",
    "# Vector b with shape (2,)\n",
    "b = np.array([1, 2])\n",
    "\n",
    "\n",
    "c = np.matmul(a,b)\n",
    "print(c)\n",
    "print(a.shape, b.shape)\n"
   ],
   "metadata": {
    "collapsed": false,
    "ExecuteTime": {
     "end_time": "2024-01-06T02:42:47.454373Z",
     "start_time": "2024-01-06T02:42:47.450581Z"
    }
   },
   "id": "5620ea0effaff1a5",
   "execution_count": 30
  },
  {
   "cell_type": "markdown",
   "source": [
    "Above result is not a (3,3) matrix but instead a (3,) matrix. This is because the second argument is a 1d array it performs a dot product for each of matrix a. "
   ],
   "metadata": {
    "collapsed": false
   },
   "id": "8d307da1a785e7af"
  },
  {
   "cell_type": "markdown",
   "source": [
    "Let's consider a case of addition of two matrices whose dimension does not match. What numpy does here is it expands the second matrix to a two-dimensional matrix with same value. It becomes [[1,1],[1,1]] and then it adds to the original matrix. \n"
   ],
   "metadata": {
    "collapsed": false
   },
   "id": "3de4c606c7e562fc"
  },
  {
   "cell_type": "markdown",
   "source": [],
   "metadata": {
    "collapsed": false
   },
   "id": "a58bde52e774f159"
  },
  {
   "cell_type": "code",
   "outputs": [
    {
     "name": "stdout",
     "output_type": "stream",
     "text": [
      "[[3 4]\n",
      " [5 6]]\n"
     ]
    }
   ],
   "source": [
    "s1 = np.array([[2,3], [4,5]])\n",
    "s2 = np.array([1,1])\n",
    "\n",
    "print(np.add(s1,s2))"
   ],
   "metadata": {
    "collapsed": false,
    "ExecuteTime": {
     "end_time": "2024-01-06T02:42:21.225102Z",
     "start_time": "2024-01-06T02:42:21.223305Z"
    }
   },
   "id": "580fb5ebaf4667d",
   "execution_count": 25
  },
  {
   "cell_type": "code",
   "outputs": [
    {
     "name": "stdout",
     "output_type": "stream",
     "text": [
      "[[2 3]\n",
      " [4 5]]\n"
     ]
    }
   ],
   "source": [
    "# Note that multiplication here is not equal to np.matmul. This is element wise multiplication where each element is multiplied by it's corresponding matrix element\n",
    "\n",
    "print(np.multiply(s1,s2))"
   ],
   "metadata": {
    "collapsed": false,
    "ExecuteTime": {
     "end_time": "2024-01-06T02:42:21.228348Z",
     "start_time": "2024-01-06T02:42:21.225862Z"
    }
   },
   "id": "603797ede6bb17f3",
   "execution_count": 26
  },
  {
   "cell_type": "markdown",
   "source": [
    "The general principle of broadcasting is that - If you have a (m,n) matrix and if we add/substract/divide/multiply by a (1,n) or (n,1) matrix then it is converted to a (m,n) matrix.\n",
    "\n"
   ],
   "metadata": {
    "collapsed": false
   },
   "id": "f6639ad20aa38935"
  },
  {
   "cell_type": "code",
   "outputs": [
    {
     "name": "stdout",
     "output_type": "stream",
     "text": [
      "[20 20]\n"
     ]
    }
   ],
   "source": [
    "# This expands 20 to [20,20] and then calculates the dot product.\n",
    "print(np.dot([1,1],20))"
   ],
   "metadata": {
    "collapsed": false,
    "ExecuteTime": {
     "end_time": "2024-01-06T02:42:21.231388Z",
     "start_time": "2024-01-06T02:42:21.229347Z"
    }
   },
   "id": "2066855e3123458a",
   "execution_count": 27
  },
  {
   "cell_type": "markdown",
   "source": [
    "### Matmul when one is a 1D(rank 1) array\n",
    "In matmul sometimes it doesn't need to broadcast - If the first argument is 1-D, it is promoted to a matrix by prepending a 1 to its dimensions. After matrix multiplication the prepended 1 is removed.\n",
    "If the second argument is 1-D, it is promoted to a matrix by appending a 1 to its dimensions. After matrix multiplication the appended 1 is removed"
   ],
   "metadata": {
    "collapsed": false
   },
   "id": "3800a3ffe55f1d89"
  },
  {
   "cell_type": "code",
   "outputs": [
    {
     "name": "stdout",
     "output_type": "stream",
     "text": [
      "[2 4]\n",
      "(2, 2) (2,)\n"
     ]
    }
   ],
   "source": [
    "a = np.array([[1,2],[3,4]])\n",
    "\n",
    "# The shape of this b array is (2,) for this matrix multiplication to work it is converted to a (2,1) matrix. \n",
    "b = np.array([0,1])\n",
    "\n",
    "c = np.matmul(a,b)\n",
    "print(c)\n",
    "print(a.shape, b.shape)"
   ],
   "metadata": {
    "collapsed": false,
    "ExecuteTime": {
     "end_time": "2024-01-06T02:42:21.233235Z",
     "start_time": "2024-01-06T02:42:21.232002Z"
    }
   },
   "id": "4a7fa7cb2a25cdfe",
   "execution_count": 28
  },
  {
   "cell_type": "markdown",
   "source": [
    "# Important note when using vectors in Numpy\n",
    "\n",
    "using data which has shape like this (2,) can lead to confusing outcomes sometimes. It is neither considered a row vector or a column vector. It is called a rank 1 array and can generaaly cause issues. Instead always initialise data structure with shape like (2,1) or (1,2)\n",
    "\n",
    "Reshape is very inexpensive operation. We should call it as often as needed. This makes sure that we are operating on the right shape of data. \n",
    "\n",
    "\n"
   ],
   "metadata": {
    "collapsed": false
   },
   "id": "7b59c0b842e4bc9"
  },
  {
   "cell_type": "code",
   "outputs": [
    {
     "name": "stdout",
     "output_type": "stream",
     "text": [
      "(5,)\n",
      "[[ 0.60840169]\n",
      " [ 1.17064274]\n",
      " [ 0.81525293]\n",
      " [-0.31086274]\n",
      " [-0.8785493 ]] (5, 1)\n",
      "[[ 0.60840169  1.17064274  0.81525293 -0.31086274 -0.8785493 ]]\n",
      "0.8895087950932811\n"
     ]
    }
   ],
   "source": [
    "do_not_do = np.random.randn(5)\n",
    "\n",
    "#(5,) - This can cause issues.\n",
    "print(do_not_do.shape)\n",
    "\n",
    "do_this = np.random.randn(5,1)\n",
    "# (5,1) shape.\n",
    "print(do_this, do_this.shape)\n",
    "\n",
    "#transpose of this is - \n",
    "print(do_this.T)\n",
    "\n",
    "# Example of issue. If we do dot product of a do_not_do and it's transpose we get weird result. It's a constant rather then a matrix. \n",
    "print(np.dot(do_not_do, do_not_do.T))\n",
    "\n",
    "\n"
   ],
   "metadata": {
    "collapsed": false,
    "ExecuteTime": {
     "end_time": "2024-01-06T02:42:21.239224Z",
     "start_time": "2024-01-06T02:42:21.235466Z"
    }
   },
   "id": "f3af282222efd802",
   "execution_count": 29
  },
  {
   "cell_type": "code",
   "outputs": [],
   "source": [],
   "metadata": {
    "collapsed": false,
    "ExecuteTime": {
     "end_time": "2024-01-06T02:42:21.241027Z",
     "start_time": "2024-01-06T02:42:21.239404Z"
    }
   },
   "id": "889e2b209ed7c079",
   "execution_count": 29
  }
 ],
 "metadata": {
  "kernelspec": {
   "display_name": "Python 3",
   "language": "python",
   "name": "python3"
  },
  "language_info": {
   "codemirror_mode": {
    "name": "ipython",
    "version": 2
   },
   "file_extension": ".py",
   "mimetype": "text/x-python",
   "name": "python",
   "nbconvert_exporter": "python",
   "pygments_lexer": "ipython2",
   "version": "2.7.6"
  }
 },
 "nbformat": 4,
 "nbformat_minor": 5
}
