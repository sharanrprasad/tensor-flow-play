{
 "cells": [
  {
   "cell_type": "markdown",
   "source": [
    "Broadcasting is a technique used in python to help with matrix operations(add, sub, mul(includes element-wise and matmul and does not include dot), divide). \n",
    "Let's consider this case where the dimensions of matrices don't match while matrix-multiplying. Instead of throwing an error we get the right result. \n",
    "\n"
   ],
   "metadata": {
    "collapsed": false
   },
   "id": "86aa069124a64b4e"
  },
  {
   "cell_type": "code",
   "outputs": [
    {
     "name": "stdout",
     "output_type": "stream",
     "text": [
      "[ 5 11 17]\n",
      "(3, 2) (2,)\n"
     ]
    }
   ],
   "source": [
    "import numpy as np\n",
    "\n",
    "a = np.array([[1, 2],\n",
    "              [3, 4],\n",
    "              [5, 6]])\n",
    "\n",
    "# Vector b with shape (2,)\n",
    "b = np.array([1, 2])\n",
    "\n",
    "\n",
    "c = np.matmul(a,b)\n",
    "print(c)\n",
    "print(a.shape, b.shape)\n"
   ],
   "metadata": {
    "collapsed": false,
    "ExecuteTime": {
     "end_time": "2024-10-17T22:09:40.810079Z",
     "start_time": "2024-10-17T22:09:40.633396Z"
    }
   },
   "id": "5620ea0effaff1a5",
   "execution_count": 2
  },
  {
   "cell_type": "markdown",
   "source": [
    "Above result is not a (3,3) matrix but instead a (3,) matrix. This is because the second argument is a 1d array it performs a dot product for each of matrix a. "
   ],
   "metadata": {
    "collapsed": false
   },
   "id": "8d307da1a785e7af"
  },
  {
   "cell_type": "markdown",
   "source": [
    "Let's consider a case of addition of two matrices whose dimension does not match. What numpy does here is it expands the second matrix to a two-dimensional matrix with same value. It becomes [[1,1],[1,1]] and then it adds to the original matrix. \n"
   ],
   "metadata": {
    "collapsed": false
   },
   "id": "3de4c606c7e562fc"
  },
  {
   "cell_type": "markdown",
   "source": [],
   "metadata": {
    "collapsed": false
   },
   "id": "a58bde52e774f159"
  },
  {
   "cell_type": "code",
   "outputs": [
    {
     "name": "stdout",
     "output_type": "stream",
     "text": [
      "[[3 4]\n",
      " [5 6]]\n"
     ]
    }
   ],
   "source": [
    "s1 = np.array([[2,3], [4,5]])\n",
    "s2 = np.array([1,1])\n",
    "\n",
    "print(np.add(s1,s2))"
   ],
   "metadata": {
    "collapsed": false,
    "ExecuteTime": {
     "end_time": "2024-10-17T22:09:40.817790Z",
     "start_time": "2024-10-17T22:09:40.814113Z"
    }
   },
   "id": "580fb5ebaf4667d",
   "execution_count": 3
  },
  {
   "cell_type": "code",
   "outputs": [
    {
     "name": "stdout",
     "output_type": "stream",
     "text": [
      "[[2 3]\n",
      " [4 5]]\n"
     ]
    }
   ],
   "source": [
    "# Note that multiplication here is not equal to np.matmul. This is element wise multiplication where each element is multiplied by it's corresponding matrix element\n",
    "\n",
    "print(np.multiply(s1,s2))"
   ],
   "metadata": {
    "collapsed": false,
    "ExecuteTime": {
     "end_time": "2024-10-17T22:09:40.821257Z",
     "start_time": "2024-10-17T22:09:40.818997Z"
    }
   },
   "id": "603797ede6bb17f3",
   "execution_count": 4
  },
  {
   "cell_type": "markdown",
   "source": [
    "The general principle of broadcasting is that - If you have a (m,n) matrix and if we add/substract/divide/multiply by a (1,n) or (n,1) matrix then it is converted to a (m,n) matrix.\n",
    "\n"
   ],
   "metadata": {
    "collapsed": false
   },
   "id": "f6639ad20aa38935"
  },
  {
   "cell_type": "code",
   "outputs": [
    {
     "ename": "ValueError",
     "evalue": "shapes (3,) and (1,) not aligned: 3 (dim 0) != 1 (dim 0)",
     "output_type": "error",
     "traceback": [
      "\u001B[0;31m---------------------------------------------------------------------------\u001B[0m",
      "\u001B[0;31mValueError\u001B[0m                                Traceback (most recent call last)",
      "Cell \u001B[0;32mIn[13], line 2\u001B[0m\n\u001B[1;32m      1\u001B[0m \u001B[38;5;66;03m# This expands 20 to [20,20] and then calculates the dot product.\u001B[39;00m\n\u001B[0;32m----> 2\u001B[0m \u001B[38;5;28mprint\u001B[39m(\u001B[43mnp\u001B[49m\u001B[38;5;241;43m.\u001B[39;49m\u001B[43mdot\u001B[49m\u001B[43m(\u001B[49m\u001B[43m[\u001B[49m\u001B[38;5;241;43m1\u001B[39;49m\u001B[43m,\u001B[49m\u001B[38;5;241;43m1\u001B[39;49m\u001B[43m,\u001B[49m\u001B[38;5;241;43m1\u001B[39;49m\u001B[43m]\u001B[49m\u001B[43m,\u001B[49m\u001B[43m[\u001B[49m\u001B[38;5;241;43m20\u001B[39;49m\u001B[43m]\u001B[49m\u001B[43m)\u001B[49m)\n\u001B[1;32m      4\u001B[0m \u001B[38;5;28mprint\u001B[39m(np\u001B[38;5;241m.\u001B[39mdot([\u001B[38;5;241m1\u001B[39m,\u001B[38;5;241m1\u001B[39m], [\u001B[38;5;241m20\u001B[39m,\u001B[38;5;241m20\u001B[39m]))\n\u001B[1;32m      6\u001B[0m a \u001B[38;5;241m=\u001B[39m np\u001B[38;5;241m.\u001B[39marray([\u001B[38;5;241m1\u001B[39m, \u001B[38;5;241m2\u001B[39m, \u001B[38;5;241m3\u001B[39m])\n",
      "File \u001B[0;32m<__array_function__ internals>:180\u001B[0m, in \u001B[0;36mdot\u001B[0;34m(*args, **kwargs)\u001B[0m\n",
      "\u001B[0;31mValueError\u001B[0m: shapes (3,) and (1,) not aligned: 3 (dim 0) != 1 (dim 0)"
     ]
    }
   ],
   "source": [
    "# This just gives [20,20,20]. Dot product doesn't really do broadcasting.\n",
    "print(np.dot([1,1,1],20))\n",
    "\n",
    "# This gives scalar 60.\n",
    "print(np.dot([1,1,1], [20,20,20]))\n",
    "\n",
    "a = np.array([1, 2, 3])\n",
    "b = np.array([[1], [2], [3]])\n",
    "\n",
    "print(a + b)\n"
   ],
   "metadata": {
    "collapsed": false,
    "ExecuteTime": {
     "end_time": "2024-10-17T22:33:19.222202Z",
     "start_time": "2024-10-17T22:33:19.175691Z"
    }
   },
   "id": "2066855e3123458a",
   "execution_count": 13
  },
  {
   "cell_type": "markdown",
   "source": [
    "### Matmul when one is a 1D(rank 1) array\n",
    "In matmul sometimes it doesn't need to broadcast - If the first argument is 1-D, it is promoted to a matrix by prepending a 1 to its dimensions. After matrix multiplication the prepended 1 is removed.\n",
    "If the second argument is 1-D, it is promoted to a matrix by appending a 1 to its dimensions. After matrix multiplication the appended 1 is removed"
   ],
   "metadata": {
    "collapsed": false
   },
   "id": "3800a3ffe55f1d89"
  },
  {
   "cell_type": "code",
   "outputs": [
    {
     "name": "stdout",
     "output_type": "stream",
     "text": [
      "[2 4]\n",
      "(2, 2) (2,)\n"
     ]
    }
   ],
   "source": [
    "a = np.array([[1,2],[3,4]])\n",
    "\n",
    "# The shape of this b array is (2,) for this matrix multiplication to work it is converted to a (2,1) matrix. \n",
    "b = np.array([0,1])\n",
    "\n",
    "c = np.matmul(a,b)\n",
    "print(c)\n",
    "print(a.shape, b.shape)\n",
    "\n",
    "np.arange(10)"
   ],
   "metadata": {
    "collapsed": false,
    "ExecuteTime": {
     "end_time": "2024-10-17T22:09:40.830590Z",
     "start_time": "2024-10-17T22:09:40.827644Z"
    }
   },
   "id": "4a7fa7cb2a25cdfe",
   "execution_count": 6
  },
  {
   "cell_type": "markdown",
   "source": [
    "Rules for broadcasting - \n",
    "\n",
    "https://medium.com/@weidagang/understanding-broadcasting-in-numpy-c44dceae42ea"
   ],
   "metadata": {
    "collapsed": false
   },
   "id": "ce40a07ee9d1bf15"
  },
  {
   "cell_type": "markdown",
   "source": [
    "# Important note when using vectors in Numpy\n",
    "\n",
    "using data which has shape like this (2,) can lead to confusing outcomes sometimes. It is neither considered a row vector or a column vector. It is called a rank 1 array and can generaaly cause issues. Instead always initialise data structure with shape like (2,1) or (1,2)\n",
    "\n",
    "Reshape is very inexpensive operation. We should call it as often as needed. This makes sure that we are operating on the right shape of data. \n",
    "\n",
    "\n"
   ],
   "metadata": {
    "collapsed": false
   },
   "id": "7b59c0b842e4bc9"
  },
  {
   "cell_type": "code",
   "outputs": [
    {
     "name": "stdout",
     "output_type": "stream",
     "text": [
      "(5,)\n",
      "[[ 0.17632145]\n",
      " [-0.17057367]\n",
      " [ 0.92594374]\n",
      " [-1.81873466]\n",
      " [-1.37761709]] (5, 1)\n",
      "14.908133846786402\n",
      "[[ 0.03108925 -0.0300758   0.16326374 -0.32068193 -0.24290344]\n",
      " [-0.0300758   0.02909538 -0.15794162  0.31022824  0.2349852 ]\n",
      " [ 0.16326374 -0.15794162  0.85737181 -1.68404597 -1.27559592]\n",
      " [-0.32068193  0.31022824 -1.68404597  3.30779576  2.50551995]\n",
      " [-0.24290344  0.2349852  -1.27559592  2.50551995  1.89782885]]\n"
     ]
    }
   ],
   "source": [
    "do_not_do = np.random.randn(5)\n",
    "\n",
    "#(5,) - This can cause issues.\n",
    "print(do_not_do.shape)\n",
    "\n",
    "do_this = np.random.randn(5,1)\n",
    "# (5,1) shape.\n",
    "print(do_this, do_this.shape)\n",
    "\n",
    "#transpose of this is - \n",
    "# print(do_this.T)\n",
    "\n",
    "# Example of issue. If we do dot product of a do_not_do and it's transpose we get weird result. It's a constant rather then a matrix. \n",
    "print(np.dot(do_not_do, do_not_do.T))\n",
    "\n",
    "print(np.dot(do_this, do_this.T))\n",
    "\n",
    "#Do this always as well. Very cheap operation and makes sure that we are operating on the right shape type.\n",
    "assert(do_this.shape == (5,1))\n",
    "\n",
    "\n"
   ],
   "metadata": {
    "collapsed": false,
    "ExecuteTime": {
     "end_time": "2024-10-17T22:09:40.836033Z",
     "start_time": "2024-10-17T22:09:40.831910Z"
    }
   },
   "id": "f3af282222efd802",
   "execution_count": 7
  },
  {
   "cell_type": "code",
   "outputs": [],
   "source": [],
   "metadata": {
    "collapsed": false,
    "ExecuteTime": {
     "end_time": "2024-10-17T22:09:40.838500Z",
     "start_time": "2024-10-17T22:09:40.836956Z"
    }
   },
   "id": "ece231c0e27adb16",
   "execution_count": 7
  }
 ],
 "metadata": {
  "kernelspec": {
   "display_name": "Python 3",
   "language": "python",
   "name": "python3"
  },
  "language_info": {
   "codemirror_mode": {
    "name": "ipython",
    "version": 2
   },
   "file_extension": ".py",
   "mimetype": "text/x-python",
   "name": "python",
   "nbconvert_exporter": "python",
   "pygments_lexer": "ipython2",
   "version": "2.7.6"
  }
 },
 "nbformat": 4,
 "nbformat_minor": 5
}
