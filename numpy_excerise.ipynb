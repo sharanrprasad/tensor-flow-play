{
 "cells": [
  {
   "cell_type": "code",
   "execution_count": 18,
   "id": "initial_id",
   "metadata": {
    "collapsed": true,
    "ExecuteTime": {
     "end_time": "2024-10-17T02:47:43.903450Z",
     "start_time": "2024-10-17T02:47:43.881602Z"
    }
   },
   "outputs": [
    {
     "name": "stdout",
     "output_type": "stream",
     "text": [
      "[[0 0 0]\n",
      " [0 0 0]\n",
      " [0 0 0]]\n"
     ]
    }
   ],
   "source": [
    "import numpy as np\n",
    "import keras\n",
    "\n",
    "def execute_function(arr1):\n",
    "  return np.full((3,3),0,np.int32)\n",
    "  \n",
    "\n",
    "compare_out = execute_function(np.array([\"1\",\"2\",\"3\"]))\n",
    "\n",
    "print(compare_out)\n",
    "\n",
    "\n",
    "\n",
    "\n"
   ]
  },
  {
   "cell_type": "code",
   "outputs": [
    {
     "name": "stdout",
     "output_type": "stream",
     "text": [
      "(2, 2, 2) (2, 2, 1)\n",
      "[[[2 3]\n",
      "  [5 6]]\n",
      "\n",
      " [[4 5]\n",
      "  [7 8]]]\n",
      "(2, 2, 2)\n"
     ]
    }
   ],
   "source": [
    "k = np.array([[[1,2], [3,4]],[[1,2], [3,4]]])\n",
    "\n",
    "y = np.array([[[1], [2]], [[3],[4]]])\n",
    "\n",
    "z = k +y\n",
    "            \n",
    "print(k.shape, y.shape)\n",
    "\n",
    "print(z)\n",
    "\n",
    "print(z.shape)\n"
   ],
   "metadata": {
    "collapsed": false,
    "ExecuteTime": {
     "end_time": "2024-10-17T02:47:43.907727Z",
     "start_time": "2024-10-17T02:47:43.904667Z"
    }
   },
   "id": "993a147319a406dc",
   "execution_count": 19
  },
  {
   "cell_type": "code",
   "outputs": [
    {
     "name": "stdout",
     "output_type": "stream",
     "text": [
      "(1, 2, 3)\n"
     ]
    }
   ],
   "source": [
    "x = np.array([[[1,2], [3,4]]])\n",
    "y = np.array([[[5],[6]]])\n",
    "r = keras.layers.Concatenate(axis=-1)([x, y])\n",
    "print(r.shape)"
   ],
   "metadata": {
    "collapsed": false,
    "ExecuteTime": {
     "end_time": "2024-10-17T02:52:20.492587Z",
     "start_time": "2024-10-17T02:52:20.463671Z"
    }
   },
   "id": "8ec89716b478946b",
   "execution_count": 25
  },
  {
   "cell_type": "code",
   "outputs": [
    {
     "name": "stdout",
     "output_type": "stream",
     "text": [
      "(1, 2, 2) (1, 2, 1)\n"
     ]
    },
    {
     "data": {
      "text/plain": "<tf.Tensor: shape=(1, 2, 1), dtype=int64, numpy=\narray([[[17],\n        [39]]])>"
     },
     "execution_count": 29,
     "metadata": {},
     "output_type": "execute_result"
    }
   ],
   "source": [
    "print(x.shape, y.shape)\n",
    "keras.layers.Dot(axes=(2, 1))([x, y])"
   ],
   "metadata": {
    "collapsed": false,
    "ExecuteTime": {
     "end_time": "2024-10-17T02:57:16.307294Z",
     "start_time": "2024-10-17T02:57:16.276306Z"
    }
   },
   "id": "b518faddb46fcf17",
   "execution_count": 29
  },
  {
   "cell_type": "code",
   "outputs": [],
   "source": [],
   "metadata": {
    "collapsed": false
   },
   "id": "d4be6c03bb63b458",
   "execution_count": null
  }
 ],
 "metadata": {
  "kernelspec": {
   "display_name": "Python 3",
   "language": "python",
   "name": "python3"
  },
  "language_info": {
   "codemirror_mode": {
    "name": "ipython",
    "version": 2
   },
   "file_extension": ".py",
   "mimetype": "text/x-python",
   "name": "python",
   "nbconvert_exporter": "python",
   "pygments_lexer": "ipython2",
   "version": "2.7.6"
  }
 },
 "nbformat": 4,
 "nbformat_minor": 5
}
