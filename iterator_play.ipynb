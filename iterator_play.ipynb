{
 "cells": [
  {
   "metadata": {},
   "cell_type": "markdown",
   "source": [
    "# List, tuples and dictionaries are all iterables and they implement the iterator protocol. \n",
    "# We can use the iter method to get the iterator from them. \n",
    "\n",
    "\n",
    "l = [1,2,3,4,5]\n",
    "# Get the iterator.\n",
    "l_itr = iter(l)\n",
    "print(next(l_itr))\n",
    "print(next(l_itr))\n",
    "print(next(l_itr))\n",
    "\n"
   ],
   "id": "246ac204fc068f9c"
  },
  {
   "metadata": {},
   "cell_type": "markdown",
   "source": [
    "An object that implements the iterator protocol is called an iterables. It needs to implement two methods\n",
    "- __itr__ : returns an iterator object.\n",
    "- __next__ : provides the next object in the iterator."
   ],
   "id": "3501b4fe8f3a386"
  },
  {
   "metadata": {
    "ExecuteTime": {
     "end_time": "2024-06-09T08:52:35.169634Z",
     "start_time": "2024-06-09T08:52:35.163929Z"
    }
   },
   "cell_type": "code",
   "source": [
    "class Square:\n",
    "    length: int    \n",
    "    def __init__(self, length):\n",
    "        self.length = length;\n",
    "        self.current = 0\n",
    "    \n",
    "    def __iter__(self):\n",
    "        return self  \n",
    "        \n",
    "    def __next__(self):\n",
    "        if self.current > self.length:\n",
    "            raise StopIteration\n",
    "        self.current = self.current + 1\n",
    "        return self.current\n",
    " \n",
    "sqr_it = iter(Square(5))\n",
    "print(next(sqr_it))\n",
    "for i in sqr_it:\n",
    "    print(i)\n",
    "    \n",
    "# This is also valid syntax. Python automatically calls the iter method here. \n",
    "print(\"Without iterate function\")\n",
    "for k in Square(6):\n",
    "    print(k)"
   ],
   "id": "73f76a546ac5817c",
   "outputs": [
    {
     "name": "stdout",
     "output_type": "stream",
     "text": [
      "1\n",
      "2\n",
      "3\n",
      "4\n",
      "5\n",
      "6\n",
      "Without iterate function\n",
      "1\n",
      "2\n",
      "3\n",
      "4\n",
      "5\n",
      "6\n",
      "7\n"
     ]
    }
   ],
   "execution_count": 8
  },
  {
   "metadata": {
    "ExecuteTime": {
     "end_time": "2024-06-09T00:13:56.148961Z",
     "start_time": "2024-06-09T00:13:56.146839Z"
    }
   },
   "cell_type": "code",
   "source": [
    "# Use enumerator when we need to both index and the value. \n",
    "sqr_enum = enumerate(Square(6))\n",
    "x,y = next(sqr_enum)\n",
    "print(x,y)\n",
    "print(\"loop\")\n",
    "for idx, i in sqr_enum:\n",
    "    print(idx,i)"
   ],
   "id": "8c3d9cd961972de3",
   "outputs": [
    {
     "name": "stdout",
     "output_type": "stream",
     "text": [
      "0 1\n",
      "loop\n",
      "1 2\n",
      "2 3\n",
      "3 4\n",
      "4 5\n",
      "5 6\n",
      "6 7\n"
     ]
    }
   ],
   "execution_count": 6
  },
  {
   "metadata": {},
   "cell_type": "markdown",
   "source": [
    "There is an protocol which makes objects behave like a list, we need to implement sequence protocol. \n",
    "__getitem__, __setitem__, __delitem__, and __len__"
   ],
   "id": "af93bbc2b8d54a34"
  },
  {
   "metadata": {
    "ExecuteTime": {
     "end_time": "2024-06-09T00:13:23.015222Z",
     "start_time": "2024-06-09T00:13:23.011869Z"
    }
   },
   "cell_type": "code",
   "source": [
    "class MyArray:\n",
    "    def __init__(self, *args):\n",
    "        self.data = list(args)\n",
    "\n",
    "    def __getitem__(self, index):\n",
    "        return self.data[index]\n",
    "\n",
    "    def __setitem__(self, index, value):\n",
    "        self.data[index] = value\n",
    "\n",
    "    def __delitem__(self, index):\n",
    "        del self.data[index]\n",
    "\n",
    "    def __len__(self):\n",
    "        return len(self.data)\n",
    "\n",
    "my_array = MyArray(1, 2, 3, 4, 5)\n",
    "print(my_array[1])\n",
    "    "
   ],
   "id": "59a5c50836fcf583",
   "outputs": [
    {
     "name": "stdout",
     "output_type": "stream",
     "text": [
      "2\n"
     ]
    }
   ],
   "execution_count": 4
  },
  {
   "metadata": {
    "ExecuteTime": {
     "end_time": "2024-06-09T00:13:23.021232Z",
     "start_time": "2024-06-09T00:13:23.019397Z"
    }
   },
   "cell_type": "code",
   "source": "",
   "id": "52fa18c9e55c2716",
   "outputs": [],
   "execution_count": 4
  }
 ],
 "metadata": {
  "kernelspec": {
   "display_name": "Python 3",
   "language": "python",
   "name": "python3"
  },
  "language_info": {
   "codemirror_mode": {
    "name": "ipython",
    "version": 2
   },
   "file_extension": ".py",
   "mimetype": "text/x-python",
   "name": "python",
   "nbconvert_exporter": "python",
   "pygments_lexer": "ipython2",
   "version": "2.7.6"
  }
 },
 "nbformat": 4,
 "nbformat_minor": 5
}
